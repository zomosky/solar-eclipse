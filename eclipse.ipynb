{
 "cells": [
  {
   "cell_type": "code",
   "id": "initial_id",
   "metadata": {
    "collapsed": true,
    "ExecuteTime": {
     "end_time": "2024-07-09T09:58:09.741611Z",
     "start_time": "2024-07-09T09:58:07.538753Z"
    }
   },
   "source": [
    "import matplotlib.pyplot as plt\n",
    "import numpy as np\n",
    "from matplotlib.dates import DateFormatter\n",
    "\n",
    "import astropy.units as u\n",
    "from astropy.coordinates import EarthLocation, solar_system_ephemeris\n",
    "from astropy.time import Time\n",
    "\n",
    "from sunpy.coordinates import sun\n",
    "\n"
   ],
   "outputs": [
    {
     "ename": "ModuleNotFoundError",
     "evalue": "No module named 'sunpy'",
     "output_type": "error",
     "traceback": [
      "\u001B[1;31m---------------------------------------------------------------------------\u001B[0m",
      "\u001B[1;31mModuleNotFoundError\u001B[0m                       Traceback (most recent call last)",
      "Cell \u001B[1;32mIn[1], line 9\u001B[0m\n\u001B[0;32m      6\u001B[0m \u001B[38;5;28;01mfrom\u001B[39;00m \u001B[38;5;21;01mastropy\u001B[39;00m\u001B[38;5;21;01m.\u001B[39;00m\u001B[38;5;21;01mcoordinates\u001B[39;00m \u001B[38;5;28;01mimport\u001B[39;00m EarthLocation, solar_system_ephemeris\n\u001B[0;32m      7\u001B[0m \u001B[38;5;28;01mfrom\u001B[39;00m \u001B[38;5;21;01mastropy\u001B[39;00m\u001B[38;5;21;01m.\u001B[39;00m\u001B[38;5;21;01mtime\u001B[39;00m \u001B[38;5;28;01mimport\u001B[39;00m Time\n\u001B[1;32m----> 9\u001B[0m \u001B[38;5;28;01mfrom\u001B[39;00m \u001B[38;5;21;01msunpy\u001B[39;00m\u001B[38;5;21;01m.\u001B[39;00m\u001B[38;5;21;01mcoordinates\u001B[39;00m \u001B[38;5;28;01mimport\u001B[39;00m sun\n",
      "\u001B[1;31mModuleNotFoundError\u001B[0m: No module named 'sunpy'"
     ]
    }
   ],
   "execution_count": 1
  },
  {
   "cell_type": "code",
   "outputs": [],
   "source": [
    "from astropy.utils.data import clear_download_cache\n",
    "clear_download_cache()"
   ],
   "metadata": {
    "collapsed": false,
    "ExecuteTime": {
     "end_time": "2024-04-07T11:00:33.420184Z",
     "start_time": "2024-04-07T11:00:33.412997Z"
    }
   },
   "id": "e2bdd9b57776681c",
   "execution_count": 28
  },
  {
   "cell_type": "code",
   "outputs": [],
   "source": [
    "longitude = 80.5945\n",
    "latitude = 40.7461\n",
    "time_day = '2020-06-21 00:00'\n",
    "\n",
    "\n",
    "location = EarthLocation.from_geodetic(longitude * u.deg, latitude * u.deg)\n",
    "time_start = Time(time_day)"
   ],
   "metadata": {
    "collapsed": false,
    "ExecuteTime": {
     "end_time": "2024-04-07T11:00:34.258093Z",
     "start_time": "2024-04-07T11:00:34.235576Z"
    }
   },
   "id": "5374c1facf2f7910",
   "execution_count": 29
  },
  {
   "cell_type": "code",
   "outputs": [
    {
     "name": "stdout",
     "output_type": "stream",
     "text": [
      "Eclipse detected:\n",
      "  Partial solar eclipse starts at 2020-06-21 13:17:00.000 UTC\n",
      "  Partial solar eclipse ends at 2020-06-21 16:17:00.000 UTC\n"
     ]
    },
    {
     "data": {
      "text/plain": "<Figure size 640x480 with 1 Axes>",
      "image/png": "[encoded data removed]"
     },
     "metadata": {},
     "output_type": "display_data"
    }
   ],
   "source": [
    "times_bj = time_start + np.arange(0, 60 * 24) * u.min\n",
    "times_utc = times_bj - 8 * u.hour\n",
    "# 粗略时间网格 后续根据算出的时间调整细节网格\n",
    "# \n",
    "# Create an observer coordinate for the time array\n",
    "observer = location.get_itrs(times_utc)\n",
    "\n",
    "# Calculate the eclipse amounts using a JPL ephemeris\n",
    "with solar_system_ephemeris.set('D:\\DS\\solar eclipse\\de422.bsp'):\n",
    "    amount = sun.eclipse_amount(observer)\n",
    "    amount_minimum = sun.eclipse_amount(observer, moon_radius='minimum')\n",
    "\n",
    "# Calculate the start/end points of partial偏食/total全食 solar eclipse\n",
    "partial = np.flatnonzero(amount > 0)\n",
    "if len(partial) > 0:\n",
    "    print(\"Eclipse detected:\")\n",
    "    start_partial, end_partial = times_bj[partial[[0, -1]]]\n",
    "    print(f\"  Partial solar eclipse starts at {start_partial} UTC\")\n",
    "\n",
    "    total = np.flatnonzero(amount_minimum == 1)\n",
    "    if len(total) > 0:\n",
    "        start_total, end_total = times_bj[total[[0, -1]]]\n",
    "        print(f\"  Total solar eclipse starts at {start_total} UTC\\n\"\n",
    "              f\"  Total solar eclipse ends at {end_total} UTC\")\n",
    "    print(f\"  Partial solar eclipse ends at {end_partial} UTC\")\n",
    "    \n",
    "elif len(partial) == 0 :\n",
    "    print(f\"  No solar eclipse at {time_day} in Lon: {longitude}, Lat:{latitude}\\n\")\n",
    "    \n",
    "\n",
    "# Plot the eclipse timeseries\n",
    "if len(partial) > 0 :   \n",
    "    fig = plt.figure(layout=\"constrained\")\n",
    "    ax = fig.add_subplot()\n",
    "\n",
    "    ax.plot(times_bj.datetime64, amount)\n",
    "\n",
    "    ax.set_ylim(0, 105)\n",
    "\n",
    "    ax.tick_params('x', rotation=90)\n",
    "\n",
    "    ax.set_title(f\"{time_start.strftime('%Y %B %d')}\")\n",
    "    ax.set_ylabel(\"Eclipse percentage\")\n",
    "    ax.set_xlabel(\"Local time (US/Central)\")\n",
    "    ax.grid()\n",
    "\n"
   ],
   "metadata": {
    "collapsed": false,
    "ExecuteTime": {
     "end_time": "2024-04-07T11:00:37.323483Z",
     "start_time": "2024-04-07T11:00:35.917685Z"
    }
   },
   "id": "16e4b212ff04aff0",
   "execution_count": 30
  },
  {
   "cell_type": "code",
   "outputs": [
    {
     "data": {
      "text/plain": "array([0., 0., 0., ..., 0., 0., 0.])"
     },
     "execution_count": 24,
     "metadata": {},
     "output_type": "execute_result"
    }
   ],
   "source": [
    "np.array(amount)\n"
   ],
   "metadata": {
    "collapsed": false,
    "ExecuteTime": {
     "end_time": "2024-04-03T10:36:19.049713Z",
     "start_time": "2024-04-03T10:36:19.044713Z"
    }
   },
   "id": "f151df5c36f0448e",
   "execution_count": 24
  },
  {
   "cell_type": "code",
   "outputs": [
    {
     "data": {
      "text/plain": "<Time object: scale='utc' format='iso' value=2020-01-01 00:00:00.000>"
     },
     "execution_count": 22,
     "metadata": {},
     "output_type": "execute_result"
    }
   ],
   "source": [],
   "metadata": {
    "collapsed": false,
    "ExecuteTime": {
     "end_time": "2024-04-02T10:48:59.112880Z",
     "start_time": "2024-04-02T10:48:59.106823Z"
    }
   },
   "id": "7949d955108a5851",
   "execution_count": 22
  },
  {
   "cell_type": "code",
   "outputs": [],
   "source": [],
   "metadata": {
    "collapsed": false
   },
   "id": "ea470a7ee0b544f6",
   "execution_count": null
  }
 ],
 "metadata": {
  "kernelspec": {
   "display_name": "Python 3",
   "language": "python",
   "name": "python3"
  },
  "language_info": {
   "codemirror_mode": {
    "name": "ipython",
    "version": 2
   },
   "file_extension": ".py",
   "mimetype": "text/x-python",
   "name": "python",
   "nbconvert_exporter": "python",
   "pygments_lexer": "ipython2",
   "version": "2.7.6"
  }
 },
 "nbformat": 4,
 "nbformat_minor": 5
}
